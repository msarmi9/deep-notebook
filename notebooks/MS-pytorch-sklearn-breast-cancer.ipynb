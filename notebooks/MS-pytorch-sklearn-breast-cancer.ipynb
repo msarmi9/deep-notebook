{
 "cells": [
  {
   "cell_type": "markdown",
   "metadata": {
    "toc": true
   },
   "source": [
    "<h1>Table of Contents<span class=\"tocSkip\"></span></h1>\n",
    "<div class=\"toc\"><ul class=\"toc-item\"><li><span><a href=\"#Process-Data\" data-toc-modified-id=\"Process-Data-1\">Process Data</a></span></li><li><span><a href=\"#Dataset\" data-toc-modified-id=\"Dataset-2\">Dataset</a></span></li><li><span><a href=\"#Trainer\" data-toc-modified-id=\"Trainer-3\">Trainer</a></span></li><li><span><a href=\"#Train-Model\" data-toc-modified-id=\"Train-Model-4\">Train Model</a></span></li><li><span><a href=\"#One-layer\" data-toc-modified-id=\"One-layer-5\">One-layer</a></span></li><li><span><a href=\"#Two-layers\" data-toc-modified-id=\"Two-layers-6\">Two-layers</a></span></li></ul></div>"
   ]
  },
  {
   "cell_type": "code",
   "execution_count": 1,
   "metadata": {
    "ExecuteTime": {
     "end_time": "2020-07-08T22:38:29.885362Z",
     "start_time": "2020-07-08T22:38:28.642562Z"
    }
   },
   "outputs": [],
   "source": [
    "import torch\n",
    "import torch.nn as nn\n",
    "from torch.utils.data import Dataset, DataLoader\n",
    "\n",
    "from sklearn.model_selection import train_test_split\n",
    "from sklearn.datasets import load_breast_cancer"
   ]
  },
  {
   "cell_type": "code",
   "execution_count": 2,
   "metadata": {
    "ExecuteTime": {
     "end_time": "2020-07-08T22:38:29.889516Z",
     "start_time": "2020-07-08T22:38:29.887220Z"
    }
   },
   "outputs": [],
   "source": [
    "# Set seed for reproducibility\n",
    "seed = 9"
   ]
  },
  {
   "cell_type": "markdown",
   "metadata": {},
   "source": [
    "-----------"
   ]
  },
  {
   "cell_type": "markdown",
   "metadata": {},
   "source": [
    "# Process Data"
   ]
  },
  {
   "cell_type": "code",
   "execution_count": 3,
   "metadata": {
    "ExecuteTime": {
     "end_time": "2020-07-08T22:38:29.910386Z",
     "start_time": "2020-07-08T22:38:29.892317Z"
    }
   },
   "outputs": [
    {
     "data": {
      "text/plain": [
       "((569, 30), (569,))"
      ]
     },
     "execution_count": 3,
     "metadata": {},
     "output_type": "execute_result"
    }
   ],
   "source": [
    "# Load data\n",
    "X, y = load_breast_cancer(return_X_y=True)\n",
    "X.shape, y.shape"
   ]
  },
  {
   "cell_type": "code",
   "execution_count": 4,
   "metadata": {
    "ExecuteTime": {
     "end_time": "2020-07-08T22:38:29.915174Z",
     "start_time": "2020-07-08T22:38:29.912532Z"
    }
   },
   "outputs": [],
   "source": [
    "# Convert np -> tensor\n",
    "X = torch.FloatTensor(X)\n",
    "y = torch.FloatTensor(y)"
   ]
  },
  {
   "cell_type": "code",
   "execution_count": 5,
   "metadata": {
    "ExecuteTime": {
     "end_time": "2020-07-08T22:38:29.921615Z",
     "start_time": "2020-07-08T22:38:29.916872Z"
    }
   },
   "outputs": [
    {
     "data": {
      "text/plain": [
       "(torch.Size([455, 30]), torch.Size([114, 30]))"
      ]
     },
     "execution_count": 5,
     "metadata": {},
     "output_type": "execute_result"
    }
   ],
   "source": [
    "# Train-test-split\n",
    "X_train, X_val, y_train, y_val = train_test_split(X, y, test_size=0.2, random_state=seed)\n",
    "X_train.shape, X_val.shape"
   ]
  },
  {
   "cell_type": "code",
   "execution_count": 6,
   "metadata": {
    "ExecuteTime": {
     "end_time": "2020-07-08T22:38:29.926861Z",
     "start_time": "2020-07-08T22:38:29.923178Z"
    }
   },
   "outputs": [],
   "source": [
    "# Normalize\n",
    "mu, sigma = X_train.mean(), X_train.std()\n",
    "X_train = (X_train - mu) / sigma\n",
    "X_val = (X_val - mu) / sigma"
   ]
  },
  {
   "cell_type": "markdown",
   "metadata": {},
   "source": [
    "----------"
   ]
  },
  {
   "cell_type": "markdown",
   "metadata": {},
   "source": [
    "# Dataset"
   ]
  },
  {
   "cell_type": "code",
   "execution_count": 7,
   "metadata": {
    "ExecuteTime": {
     "end_time": "2020-07-08T22:38:29.932043Z",
     "start_time": "2020-07-08T22:38:29.928299Z"
    }
   },
   "outputs": [],
   "source": [
    "class TabularData(Dataset):\n",
    "    \n",
    "    def __init__(self, X, y):\n",
    "        self.X = X\n",
    "        self.y = y.unsqueeze(1)\n",
    "    \n",
    "    def __getitem__(self, idx):\n",
    "        return self.X[idx], self.y[idx]\n",
    "    \n",
    "    def __len__(self):\n",
    "        return len(self.y)"
   ]
  },
  {
   "cell_type": "markdown",
   "metadata": {},
   "source": [
    "--------"
   ]
  },
  {
   "cell_type": "markdown",
   "metadata": {},
   "source": [
    "# Trainer"
   ]
  },
  {
   "cell_type": "code",
   "execution_count": 8,
   "metadata": {
    "ExecuteTime": {
     "end_time": "2020-07-08T22:38:29.938625Z",
     "start_time": "2020-07-08T22:38:29.935358Z"
    }
   },
   "outputs": [],
   "source": [
    "def accuracy(y, y_hat):\n",
    "    \"\"\"Compute accuracy given soft binary predictions.\"\"\"\n",
    "    y_pred = y_hat > 0.5\n",
    "    n_correct = (y_pred == y).sum().item()\n",
    "    return n_correct / len(y)"
   ]
  },
  {
   "cell_type": "code",
   "execution_count": 9,
   "metadata": {
    "ExecuteTime": {
     "end_time": "2020-07-08T22:38:29.951849Z",
     "start_time": "2020-07-08T22:38:29.942410Z"
    },
    "code_folding": []
   },
   "outputs": [],
   "source": [
    "class PyTrainer:\n",
    "    \"\"\"Container for training a PyTorch feedforward neural net.\"\"\"\n",
    "    \n",
    "    def __init__(self, model, optimizer, criterion, metric, train_dl, val_dl):\n",
    "        self.model = model\n",
    "        self.optimizer = optimizer\n",
    "        self.criterion = criterion\n",
    "        self.metric = metric\n",
    "        self.train_dl = train_dl\n",
    "        self.val_dl = val_dl\n",
    "        \n",
    "    def _train(self):\n",
    "        \"\"\"Train for a single epoch and return the loss.\"\"\"\n",
    "        loss, n = 0, 0\n",
    "        for x, y in self.train_dl:\n",
    "            y_hat = self.model.forward(x)\n",
    "            batch_loss = self.criterion(y_hat, y)\n",
    "            self.optimizer.zero_grad()\n",
    "            batch_loss.backward()\n",
    "            self.optimizer.step()\n",
    "            loss += len(y) * batch_loss.item()\n",
    "            n += len(y)\n",
    "        return loss / n\n",
    "            \n",
    "    def train(self, n_epochs, log_level=1):\n",
    "        \"\"\"Train for multiple epochs.\"\"\"\n",
    "        for epoch in range(n_epochs):\n",
    "            self.model.train()\n",
    "            loss = self._train()\n",
    "            self.optimizer.step()\n",
    "            val_loss, val_metric = self.evaluate(self.val_dl)\n",
    "            if (epoch + 1) % log_level == 0:\n",
    "                print(f\"{epoch= :2d} | {loss= :.3f} | {val_loss= :.3f} | {val_metric= :.3f}\")\n",
    "    \n",
    "    def evaluate(self, dl):\n",
    "        \"\"\"Return loss and metric on validation or test set.\"\"\"\n",
    "        self.model.eval()\n",
    "        loss, n, metric = 0, 0, 0\n",
    "        for x, y in dl:\n",
    "            y_hat = self.model.forward(x)\n",
    "            batch_loss = self.criterion(y_hat, y)\n",
    "            batch_metric = self.metric(y, y_hat)\n",
    "            metric += len(y) * batch_metric\n",
    "            loss += len(y) * batch_loss.item()\n",
    "            n += len(y)\n",
    "        return loss / n, metric / n"
   ]
  },
  {
   "cell_type": "markdown",
   "metadata": {},
   "source": [
    "----------"
   ]
  },
  {
   "cell_type": "markdown",
   "metadata": {},
   "source": [
    "# Train Model"
   ]
  },
  {
   "cell_type": "code",
   "execution_count": 10,
   "metadata": {
    "ExecuteTime": {
     "end_time": "2020-07-08T22:38:29.957752Z",
     "start_time": "2020-07-08T22:38:29.954012Z"
    }
   },
   "outputs": [],
   "source": [
    "# Load training and validation data\n",
    "train_ds = TabularData(X_train, y_train)\n",
    "val_ds = TabularData(X_val, y_val)\n",
    "\n",
    "batch_size = 64\n",
    "train_dl = DataLoader(train_ds, batch_size=batch_size, shuffle=True)\n",
    "val_dl = DataLoader(val_ds, batch_size=len(X_val), shuffle=False)"
   ]
  },
  {
   "cell_type": "markdown",
   "metadata": {},
   "source": [
    "# One-layer "
   ]
  },
  {
   "cell_type": "code",
   "execution_count": 11,
   "metadata": {
    "ExecuteTime": {
     "end_time": "2020-07-08T22:38:29.963758Z",
     "start_time": "2020-07-08T22:38:29.959221Z"
    }
   },
   "outputs": [],
   "source": [
    "# Input and final output dims\n",
    "n_inp = X_train.shape[1]\n",
    "\n",
    "# Initialise model\n",
    "metric = accuracy\n",
    "criterion = nn.BCELoss()\n",
    "model = nn.Sequential(nn.Linear(n_inp, 1), nn.Sigmoid())\n",
    "\n",
    "# Initialise optimizer and trainer\n",
    "optimizer = torch.optim.SGD(model.parameters(), lr=0.1)\n",
    "pytrainer = PyTrainer(model, optimizer, criterion, metric, train_dl, val_dl)"
   ]
  },
  {
   "cell_type": "code",
   "execution_count": 12,
   "metadata": {
    "ExecuteTime": {
     "end_time": "2020-07-08T22:38:30.032920Z",
     "start_time": "2020-07-08T22:38:29.965170Z"
    }
   },
   "outputs": [
    {
     "name": "stdout",
     "output_type": "stream",
     "text": [
      "epoch=  0 | loss= 0.609 | val_loss= 0.576 | val_metric= 0.596\n",
      "epoch=  1 | loss= 0.548 | val_loss= 0.527 | val_metric= 0.798\n",
      "epoch=  2 | loss= 0.504 | val_loss= 0.454 | val_metric= 0.895\n",
      "epoch=  3 | loss= 0.458 | val_loss= 0.448 | val_metric= 0.825\n",
      "epoch=  4 | loss= 0.430 | val_loss= 0.392 | val_metric= 0.895\n",
      "epoch=  5 | loss= 0.403 | val_loss= 0.384 | val_metric= 0.895\n",
      "epoch=  6 | loss= 0.387 | val_loss= 0.388 | val_metric= 0.851\n",
      "epoch=  7 | loss= 0.379 | val_loss= 0.341 | val_metric= 0.886\n",
      "epoch=  8 | loss= 0.353 | val_loss= 0.327 | val_metric= 0.904\n",
      "epoch=  9 | loss= 0.344 | val_loss= 0.387 | val_metric= 0.877\n"
     ]
    }
   ],
   "source": [
    "pytrainer.train(10)"
   ]
  },
  {
   "cell_type": "markdown",
   "metadata": {},
   "source": [
    "# Two-layers"
   ]
  },
  {
   "cell_type": "code",
   "execution_count": 13,
   "metadata": {
    "ExecuteTime": {
     "end_time": "2020-07-08T22:38:30.039085Z",
     "start_time": "2020-07-08T22:38:30.034420Z"
    }
   },
   "outputs": [],
   "source": [
    "# Initialise model\n",
    "metric = accuracy\n",
    "criterion = nn.BCELoss()\n",
    "model = nn.Sequential(nn.Linear(n_inp, 30), nn.ReLU(), nn.Linear(30, 1), nn.Sigmoid())\n",
    "\n",
    "# Initialise optimizer and trainer\n",
    "optimizer = torch.optim.SGD(model.parameters(), lr=0.1)\n",
    "pytrainer = PyTrainer(model, optimizer, criterion, metric, train_dl, val_dl)"
   ]
  },
  {
   "cell_type": "code",
   "execution_count": 14,
   "metadata": {
    "ExecuteTime": {
     "end_time": "2020-07-08T22:38:30.188580Z",
     "start_time": "2020-07-08T22:38:30.040778Z"
    }
   },
   "outputs": [
    {
     "name": "stdout",
     "output_type": "stream",
     "text": [
      "epoch=  0 | loss= 0.677 | val_loss= 0.634 | val_metric= 0.798\n",
      "epoch=  1 | loss= 0.618 | val_loss= 0.578 | val_metric= 0.807\n",
      "epoch=  2 | loss= 0.562 | val_loss= 0.516 | val_metric= 0.877\n",
      "epoch=  3 | loss= 0.508 | val_loss= 0.467 | val_metric= 0.886\n",
      "epoch=  4 | loss= 0.455 | val_loss= 0.509 | val_metric= 0.684\n",
      "epoch=  5 | loss= 0.427 | val_loss= 0.371 | val_metric= 0.868\n",
      "epoch=  6 | loss= 0.369 | val_loss= 0.418 | val_metric= 0.816\n",
      "epoch=  7 | loss= 0.352 | val_loss= 0.296 | val_metric= 0.904\n",
      "epoch=  8 | loss= 0.307 | val_loss= 0.503 | val_metric= 0.754\n",
      "epoch=  9 | loss= 0.340 | val_loss= 0.346 | val_metric= 0.877\n",
      "epoch= 10 | loss= 0.296 | val_loss= 0.295 | val_metric= 0.868\n",
      "epoch= 11 | loss= 0.280 | val_loss= 0.291 | val_metric= 0.886\n",
      "epoch= 12 | loss= 0.268 | val_loss= 0.234 | val_metric= 0.904\n",
      "epoch= 13 | loss= 0.247 | val_loss= 0.323 | val_metric= 0.877\n",
      "epoch= 14 | loss= 0.258 | val_loss= 0.229 | val_metric= 0.895\n",
      "epoch= 15 | loss= 0.237 | val_loss= 0.217 | val_metric= 0.904\n",
      "epoch= 16 | loss= 0.229 | val_loss= 0.288 | val_metric= 0.895\n",
      "epoch= 17 | loss= 0.242 | val_loss= 0.213 | val_metric= 0.895\n",
      "epoch= 18 | loss= 0.224 | val_loss= 0.217 | val_metric= 0.904\n",
      "epoch= 19 | loss= 0.219 | val_loss= 0.220 | val_metric= 0.895\n"
     ]
    }
   ],
   "source": [
    "pytrainer.train(20)"
   ]
  },
  {
   "cell_type": "code",
   "execution_count": null,
   "metadata": {},
   "outputs": [],
   "source": []
  }
 ],
 "metadata": {
  "kernelspec": {
   "display_name": "Python 3",
   "language": "python",
   "name": "python3"
  },
  "language_info": {
   "codemirror_mode": {
    "name": "ipython",
    "version": 3
   },
   "file_extension": ".py",
   "mimetype": "text/x-python",
   "name": "python",
   "nbconvert_exporter": "python",
   "pygments_lexer": "ipython3",
   "version": "3.8.2"
  },
  "toc": {
   "base_numbering": 1,
   "nav_menu": {},
   "number_sections": false,
   "sideBar": true,
   "skip_h1_title": false,
   "title_cell": "Table of Contents",
   "title_sidebar": "Contents",
   "toc_cell": true,
   "toc_position": {},
   "toc_section_display": true,
   "toc_window_display": false
  }
 },
 "nbformat": 4,
 "nbformat_minor": 4
}
